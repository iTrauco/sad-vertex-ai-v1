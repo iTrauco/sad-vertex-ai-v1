{
 "cells": [
  {
   "cell_type": "code",
   "execution_count": 2,
   "id": "6b521025-5270-4390-94c3-08ba6a97336b",
   "metadata": {},
   "outputs": [],
   "source": [
    "%%capture\n",
    "! pip3 install --upgrade --quiet google-cloud-aiplatform \\\n",
    "                                    'google-cloud-bigquery[bqstorage,pandas]' \\\n",
    "                                    google-cloud-storage \n",
    "                                    \n",
    "     "
   ]
  },
  {
   "cell_type": "code",
   "execution_count": 3,
   "id": "a8380fbb-2a12-4afd-b908-27a094bb8636",
   "metadata": {},
   "outputs": [],
   "source": [
    "%%capture\n",
    "!pip3 install gspread google-auth oauth2client df2gspread"
   ]
  },
  {
   "cell_type": "code",
   "execution_count": 2,
   "id": "c9899145-b0b4-40d2-b9b8-4cdb66e1bdea",
   "metadata": {},
   "outputs": [],
   "source": [
    "# For connectopm to g-sheets\n",
    "import gspread\n",
    "# import google-auth\n",
    "from oauth2client.service_account import ServiceAccountCredentials\n",
    "from df2gspread import df2gspread as d2g\n",
    "\n",
    "# data manipulation\n",
    "import pandas as pd\n",
    "import numpy as np\n",
    "\n",
    "# general python imports\n",
    "import os\n",
    "from contextlib import redirect_stdout\n",
    "import io\n",
    "import sys\n",
    "import subprocess\n",
    "\n",
    "################################################    \n",
    "# G-SHEETS CONNECTION\n",
    "scope = ['https://www.googleapis.com/auth/spreadsheets','https://www.googleapis.com/auth/drive']"
   ]
  },
  {
   "cell_type": "code",
   "execution_count": 5,
   "id": "2523bb32-8d59-4ceb-a8f6-f573e552a0b7",
   "metadata": {},
   "outputs": [],
   "source": [
    "#authorize sa\n",
    "credentials = ServiceAccountCredentials.from_json_keyfile_name('credentials.json', scope)\n",
    "client = gspread.authorize(credentials)\n",
    "spreadsheet_key = '1CdWbcllzJWkPdUFqfIMwrwpyA7ZRiANh9ZlUws7eShM'\n",
    "sh = client.open_by_key(spreadsheet_key)"
   ]
  },
  {
   "cell_type": "code",
   "execution_count": 7,
   "id": "bc211f01-c2a3-4e39-ac31-df73234a3f05",
   "metadata": {},
   "outputs": [
    {
     "name": "stdout",
     "output_type": "stream",
     "text": [
      "sad-vertex-ai\n"
     ]
    }
   ],
   "source": [
    "# g-sheets setup\n",
    "\n",
    "PROJECT_ID = sh.worksheet('Main').acell('B1').value\n",
    "\n",
    "print(PROJECT_ID)"
   ]
  },
  {
   "cell_type": "code",
   "execution_count": 8,
   "id": "33dd0f5b-7180-4d78-ae1e-2d46f7ab7678",
   "metadata": {},
   "outputs": [],
   "source": [
    "# IMPORT VERTEX AI LIBRARIES\n",
    "\n",
    "import google.cloud.aiplatform as aiplatform\n",
    "from google.cloud import bigquery\n",
    "     "
   ]
  },
  {
   "cell_type": "code",
   "execution_count": 10,
   "id": "b7c0fd16-4ff1-4668-96f6-09c0feec5d9a",
   "metadata": {},
   "outputs": [
    {
     "name": "stdout",
     "output_type": "stream",
     "text": [
      "sad-vertex-ai\n",
      "us-east1\n"
     ]
    }
   ],
   "source": [
    "# g-sheets setup\n",
    "\n",
    "PROJECT_ID = sh.worksheet('Main').acell('B1').value\n",
    "\n",
    "print(PROJECT_ID)\n",
    "\n",
    "REGION = sh.worksheet('Main').acell('B2').value\n",
    "\n",
    "print(REGION)\n"
   ]
  },
  {
   "cell_type": "code",
   "execution_count": null,
   "id": "d5ca4b78-afba-4782-9bb6-332b39f6117b",
   "metadata": {},
   "outputs": [],
   "source": []
  }
 ],
 "metadata": {
  "kernelspec": {
   "display_name": "Python 3 (ipykernel)",
   "language": "python",
   "name": "python3"
  },
  "language_info": {
   "codemirror_mode": {
    "name": "ipython",
    "version": 3
   },
   "file_extension": ".py",
   "mimetype": "text/x-python",
   "name": "python",
   "nbconvert_exporter": "python",
   "pygments_lexer": "ipython3",
   "version": "3.10.12"
  }
 },
 "nbformat": 4,
 "nbformat_minor": 5
}
